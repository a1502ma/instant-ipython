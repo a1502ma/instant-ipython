{
 "cells": [
  {
   "cell_type": "markdown",
   "metadata": {},
   "source": [
    "# アクティブユーザー数 "
   ]
  },
  {
   "cell_type": "markdown",
   "metadata": {},
   "source": [
    "本資料は、アサインナビにおけるアクティブユーザー数を算出するためのものである。\n",
    " - アクティブユーザー数とは\n",
    "  - 過去30日以内にログイン or 過去90日以内にアクション の法人数\n",
    "  - 過去90日以内にログイン or 過去120日以内にアクション の個人数\n",
    "\n",
    "※日数は暫定  \n",
    "※アクションとは、案件登録、レジュメ登録、スカウト、提案、イベント参加"
   ]
  },
  {
   "cell_type": "markdown",
   "metadata": {},
   "source": [
    "### import"
   ]
  },
  {
   "cell_type": "code",
   "execution_count": 85,
   "metadata": {
    "collapsed": false
   },
   "outputs": [],
   "source": [
    "import datetime\n",
    "import codecs\n",
    "import pandas as pd\n",
    "from pandas import DataFrame"
   ]
  },
  {
   "cell_type": "markdown",
   "metadata": {},
   "source": [
    "### 基準日設定\n",
    "\n",
    "ここで、基準となる日を設定することができる。  \n",
    "現時点では過去30日以内、過去90日以内、過去120日以内としている。"
   ]
  },
  {
   "cell_type": "code",
   "execution_count": 51,
   "metadata": {
    "collapsed": false
   },
   "outputs": [],
   "source": [
    "base_date = datetime.datetime(2016, 11, 1, 0, 0, 0)\n",
    "base_date_str = base_date.strftime(\"%Y-%m-%d %H:%M:%S\")\n",
    "before_30days = base_date + datetime.timedelta(days=-30)\n",
    "before_30days_str = before_30days.strftime(\"%Y-%m-%d %H:%M:%S\")\n",
    "before_90days = base_date + datetime.timedelta(days=-90)\n",
    "before_90days_str = before_90days.strftime(\"%Y-%m-%d %H:%M:%S\")\n",
    "before_120days = base_date + datetime.timedelta(days=-120)\n",
    "before_120days_str = before_120days.strftime(\"%Y-%m-%d %H:%M:%S\")"
   ]
  },
  {
   "cell_type": "markdown",
   "metadata": {},
   "source": [
    "### 案件登録"
   ]
  },
  {
   "cell_type": "code",
   "execution_count": 83,
   "metadata": {
    "collapsed": false
   },
   "outputs": [],
   "source": [
    "with codecs.open('./csv/opportunities.csv', 'r', 'Shift-JIS', 'ignore') as file:\n",
    "    df_opp_temp = pd.read_csv(file, index_col='id').fillna('')\n",
    "df_opportunities = df_opp_temp[(df_opp_temp['company'] != '') & (df_opp_temp['published'] != '') & (df_opp_temp['draft'] != '1') & (df_opp_temp['deleted'] != '1')].ix[:,['id','published','company','isPaying']]\n",
    "df_opp_group = DataFrame(df_opportunities[['company','published']].groupby('company')['published'].max())\n",
    "# df_opp_group[df_opp_group.published > before_90days_str]"
   ]
  },
  {
   "cell_type": "markdown",
   "metadata": {},
   "source": [
    "### レジュメ登録"
   ]
  },
  {
   "cell_type": "code",
   "execution_count": 57,
   "metadata": {
    "collapsed": false
   },
   "outputs": [],
   "source": [
    "with codecs.open('./csv/resumes.csv', 'r', 'Shift-JIS', 'ignore') as file:\n",
    "    df_res_temp = pd.read_csv(file, index_col='id').fillna('')\n",
    "df_resumes = df_res_temp[(df_res_temp['company'] != '') & (df_res_temp['draft'] != '1') & (df_res_temp['deleted'] != '1')].ix[:,['id','registed','modified','company','isPaying']]\n",
    "df_res_group = DataFrame(df_resumes[['company','modified']].groupby('company')['modified'].max())\n",
    "# df_res_group[df_res_group.modified > before_90days_str]"
   ]
  },
  {
   "cell_type": "markdown",
   "metadata": {},
   "source": [
    "### スカウト"
   ]
  },
  {
   "cell_type": "code",
   "execution_count": 77,
   "metadata": {
    "collapsed": false
   },
   "outputs": [],
   "source": [
    "with codecs.open('./csv/scouts.csv', 'r', 'Shift-JIS', 'ignore') as file:\n",
    "    df_scouts_temp = pd.read_csv(file, index_col='message_id').fillna('')\n",
    "df_scouts = df_scouts_temp[(df_scouts_temp['company'] != '')].ix[:,['message_id','scout_status','created','company','isPaying']]\n",
    "df_scouts.rename(columns={'message_id': 'id'}, inplace=True)\n",
    "df_scouts_group = DataFrame(df_scouts[['company','created']].groupby('company')['created'].max())\n",
    "# df_scouts_group[df_scouts_group.created > before_90days_str]"
   ]
  },
  {
   "cell_type": "markdown",
   "metadata": {},
   "source": [
    "### 提案"
   ]
  },
  {
   "cell_type": "code",
   "execution_count": 67,
   "metadata": {
    "collapsed": false
   },
   "outputs": [],
   "source": [
    "with codecs.open('./csv/proposed_resumes.csv', 'r', 'Shift-JIS', 'ignore') as file:\n",
    "    df_pro_temp = pd.read_csv(file, index_col='id').fillna('')\n",
    "df_proposed_resumes = df_pro_temp[(df_pro_temp['company'] != '')].ix[:,['id','created','modified','company','isPaying']]\n",
    "df_pro_group = DataFrame(df_proposed_resumes[['company','modified']].groupby('company')['modified'].max())\n",
    "# df_pro_group[df_pro_group.modified > before_90days_str]"
   ]
  },
  {
   "cell_type": "markdown",
   "metadata": {},
   "source": [
    "### イベント"
   ]
  },
  {
   "cell_type": "code",
   "execution_count": 78,
   "metadata": {
    "collapsed": false
   },
   "outputs": [
    {
     "ename": "TypeError",
     "evalue": "strptime() argument 1 must be string, not Series",
     "output_type": "error",
     "traceback": [
      "\u001b[1;31m---------------------------------------------------------------------------\u001b[0m",
      "\u001b[1;31mTypeError\u001b[0m                                 Traceback (most recent call last)",
      "\u001b[1;32m<ipython-input-78-6f1a7efa7fe7>\u001b[0m in \u001b[0;36m<module>\u001b[1;34m()\u001b[0m\n\u001b[0;32m      3\u001b[0m \u001b[0mdf_events\u001b[0m \u001b[1;33m=\u001b[0m \u001b[0mdf_eve_temp\u001b[0m\u001b[1;33m[\u001b[0m\u001b[1;33m(\u001b[0m\u001b[0mdf_eve_temp\u001b[0m\u001b[1;33m[\u001b[0m\u001b[1;34m'company'\u001b[0m\u001b[1;33m]\u001b[0m \u001b[1;33m!=\u001b[0m \u001b[1;34m''\u001b[0m\u001b[1;33m)\u001b[0m\u001b[1;33m]\u001b[0m\u001b[1;33m.\u001b[0m\u001b[0mix\u001b[0m\u001b[1;33m[\u001b[0m\u001b[1;33m:\u001b[0m\u001b[1;33m,\u001b[0m\u001b[1;33m[\u001b[0m\u001b[1;34m'id'\u001b[0m\u001b[1;33m,\u001b[0m\u001b[1;34m'date'\u001b[0m\u001b[1;33m,\u001b[0m\u001b[1;34m'company'\u001b[0m\u001b[1;33m,\u001b[0m\u001b[1;34m'isPaying'\u001b[0m\u001b[1;33m]\u001b[0m\u001b[1;33m]\u001b[0m\u001b[1;33m\u001b[0m\u001b[0m\n\u001b[0;32m      4\u001b[0m \u001b[0mdf_eve_group\u001b[0m \u001b[1;33m=\u001b[0m \u001b[0mDataFrame\u001b[0m\u001b[1;33m(\u001b[0m\u001b[0mdf_events\u001b[0m\u001b[1;33m[\u001b[0m\u001b[1;33m[\u001b[0m\u001b[1;34m'company'\u001b[0m\u001b[1;33m,\u001b[0m\u001b[1;34m'date'\u001b[0m\u001b[1;33m]\u001b[0m\u001b[1;33m]\u001b[0m\u001b[1;33m.\u001b[0m\u001b[0mgroupby\u001b[0m\u001b[1;33m(\u001b[0m\u001b[1;34m'company'\u001b[0m\u001b[1;33m)\u001b[0m\u001b[1;33m[\u001b[0m\u001b[1;34m'date'\u001b[0m\u001b[1;33m]\u001b[0m\u001b[1;33m.\u001b[0m\u001b[0mmax\u001b[0m\u001b[1;33m(\u001b[0m\u001b[1;33m)\u001b[0m\u001b[1;33m)\u001b[0m\u001b[1;33m\u001b[0m\u001b[0m\n\u001b[1;32m----> 5\u001b[1;33m \u001b[0mdf_eve_group\u001b[0m\u001b[1;33m[\u001b[0m\u001b[0mdatetime\u001b[0m\u001b[1;33m.\u001b[0m\u001b[0mdatetime\u001b[0m\u001b[1;33m.\u001b[0m\u001b[0mstrptime\u001b[0m\u001b[1;33m(\u001b[0m\u001b[0mdf_eve_group\u001b[0m\u001b[1;33m.\u001b[0m\u001b[0mdate\u001b[0m\u001b[1;33m,\u001b[0m \u001b[1;34m\"%Y/%m/%d\"\u001b[0m\u001b[1;33m)\u001b[0m  \u001b[1;33m>\u001b[0m \u001b[0mbefore_90days_str\u001b[0m\u001b[1;33m]\u001b[0m\u001b[1;33m\u001b[0m\u001b[0m\n\u001b[0m\u001b[0;32m      6\u001b[0m \u001b[1;31m# df_eve_group[df_eve_group.date > before_90days_str]\u001b[0m\u001b[1;33m\u001b[0m\u001b[1;33m\u001b[0m\u001b[0m\n",
      "\u001b[1;31mTypeError\u001b[0m: strptime() argument 1 must be string, not Series"
     ]
    }
   ],
   "source": [
    "with codecs.open('./csv/events.csv', 'r', 'Shift-JIS', 'ignore') as file:\n",
    "    df_eve_temp = pd.read_csv(file).fillna('')\n",
    "df_events = df_eve_temp[(df_eve_temp['company'] != '')].ix[:,['id','date','company','isPaying']]\n",
    "df_eve_group = DataFrame(df_events[['company','date']].groupby('company')['date'].max())\n",
    "df_eve_group[datetime.datetime.strptime(df_eve_group.date, \"%Y/%m/%d\")  > before_90days_str]\n",
    "# df_eve_group[df_eve_group.date > before_90days_str]"
   ]
  },
  {
   "cell_type": "markdown",
   "metadata": {},
   "source": [
    "### 会社テーブル"
   ]
  },
  {
   "cell_type": "code",
   "execution_count": 59,
   "metadata": {
    "collapsed": false
   },
   "outputs": [
    {
     "data": {
      "text/html": [
       "<div>\n",
       "<table border=\"1\" class=\"dataframe\">\n",
       "  <thead>\n",
       "    <tr style=\"text-align: right;\">\n",
       "      <th></th>\n",
       "      <th>uuid</th>\n",
       "      <th>name</th>\n",
       "      <th>url</th>\n",
       "      <th>created</th>\n",
       "      <th>updated</th>\n",
       "      <th>last_login</th>\n",
       "      <th>isPaying</th>\n",
       "    </tr>\n",
       "    <tr>\n",
       "      <th>id</th>\n",
       "      <th></th>\n",
       "      <th></th>\n",
       "      <th></th>\n",
       "      <th></th>\n",
       "      <th></th>\n",
       "      <th></th>\n",
       "      <th></th>\n",
       "    </tr>\n",
       "  </thead>\n",
       "  <tbody>\n",
       "    <tr>\n",
       "      <th>1</th>\n",
       "      <td>988066285892</td>\n",
       "      <td>株式会社 エル・ティー・エス</td>\n",
       "      <td>http://www.lt-s.jp/</td>\n",
       "      <td>2014-10-23 21:11:29</td>\n",
       "      <td>2016-06-20 17:45:34</td>\n",
       "      <td>2016-10-21 11:24:02</td>\n",
       "      <td>スタンダードプラン</td>\n",
       "    </tr>\n",
       "    <tr>\n",
       "      <th>2</th>\n",
       "      <td>247113551374</td>\n",
       "      <td>アクロスロード株式会社</td>\n",
       "      <td>http://www.axrossroad.co.jp/</td>\n",
       "      <td>2014-10-24 10:19:18</td>\n",
       "      <td>2016-05-08 23:33:45</td>\n",
       "      <td>2015-04-09 11:39:28</td>\n",
       "      <td>ライトプラン</td>\n",
       "    </tr>\n",
       "    <tr>\n",
       "      <th>3</th>\n",
       "      <td>787121381699</td>\n",
       "      <td>有限会社アイ・ティ・ソリューション</td>\n",
       "      <td>http://itsol.jp/</td>\n",
       "      <td>2014-10-24 12:29:49</td>\n",
       "      <td>2015-01-14 19:21:45</td>\n",
       "      <td>2015-01-14 14:47:34</td>\n",
       "      <td>ライトプラン</td>\n",
       "    </tr>\n",
       "    <tr>\n",
       "      <th>4</th>\n",
       "      <td>777129265687</td>\n",
       "      <td>ザックシステム株式会社</td>\n",
       "      <td>http://www.zaq.co.jp/</td>\n",
       "      <td>2014-10-24 14:41:01</td>\n",
       "      <td>2016-10-26 23:34:36</td>\n",
       "      <td>2016-06-15 17:44:34</td>\n",
       "      <td>ライトプラン</td>\n",
       "    </tr>\n",
       "    <tr>\n",
       "      <th>5</th>\n",
       "      <td>364131262019</td>\n",
       "      <td>株式会社シー・エス・エス</td>\n",
       "      <td>http://www.css-net.co.jp/</td>\n",
       "      <td>2014-10-24 15:14:29</td>\n",
       "      <td>2016-03-15 09:51:27</td>\n",
       "      <td>2016-03-10 17:52:00</td>\n",
       "      <td>ライトプラン</td>\n",
       "    </tr>\n",
       "    <tr>\n",
       "      <th>6</th>\n",
       "      <td>754135652071</td>\n",
       "      <td>ジャパンソフト</td>\n",
       "      <td>http://www.jpn-soft.co.jp</td>\n",
       "      <td>2014-10-24 16:27:38</td>\n",
       "      <td>2016-05-08 23:34:13</td>\n",
       "      <td>2015-03-13 16:03:51</td>\n",
       "      <td>ライトプラン</td>\n",
       "    </tr>\n",
       "    <tr>\n",
       "      <th>7</th>\n",
       "      <td>905142366060</td>\n",
       "      <td>株式会社LDS</td>\n",
       "      <td>http://l-ds.jp/</td>\n",
       "      <td>2014-10-24 18:19:22</td>\n",
       "      <td>2016-10-26 23:34:37</td>\n",
       "      <td>2016-10-09 09:10:46</td>\n",
       "      <td>ライトプラン</td>\n",
       "    </tr>\n",
       "    <tr>\n",
       "      <th>8</th>\n",
       "      <td>495155891538</td>\n",
       "      <td>株式会社バーネット</td>\n",
       "      <td>http://www.barnet.co.jp</td>\n",
       "      <td>2014-10-24 22:04:54</td>\n",
       "      <td>2016-10-26 23:34:24</td>\n",
       "      <td>2016-10-17 12:23:13</td>\n",
       "      <td>スタンダードプラン</td>\n",
       "    </tr>\n",
       "    <tr>\n",
       "      <th>9</th>\n",
       "      <td>656218181448</td>\n",
       "      <td>株式会社ギークフィード</td>\n",
       "      <td>http://www.geekfeed.co.jp</td>\n",
       "      <td>2014-10-25 15:23:11</td>\n",
       "      <td>2016-10-26 23:34:00</td>\n",
       "      <td>2016-01-22 09:22:06</td>\n",
       "      <td>ライトプラン</td>\n",
       "    </tr>\n",
       "    <tr>\n",
       "      <th>10</th>\n",
       "      <td>620319813383</td>\n",
       "      <td>株式会社日光</td>\n",
       "      <td>http://www.corpsunlight.com</td>\n",
       "      <td>2014-10-26 19:36:58</td>\n",
       "      <td>2016-10-26 23:34:01</td>\n",
       "      <td>2016-01-08 00:10:22</td>\n",
       "      <td>ライトプラン</td>\n",
       "    </tr>\n",
       "    <tr>\n",
       "      <th>11</th>\n",
       "      <td>10376052054</td>\n",
       "      <td>株式会社　キングコンピューティング</td>\n",
       "      <td>http://www.king-kcp.com</td>\n",
       "      <td>2014-10-27 11:14:12</td>\n",
       "      <td>2016-10-26 23:34:38</td>\n",
       "      <td>2015-11-21 10:00:48</td>\n",
       "      <td>ライトプラン</td>\n",
       "    </tr>\n",
       "    <tr>\n",
       "      <th>12</th>\n",
       "      <td>225385766456</td>\n",
       "      <td>株式会社キャリアヴィジョン</td>\n",
       "      <td>http://careervision.jp/</td>\n",
       "      <td>2014-10-27 13:56:07</td>\n",
       "      <td>2015-06-29 16:09:33</td>\n",
       "      <td>2015-06-26 12:34:17</td>\n",
       "      <td>ライトプラン</td>\n",
       "    </tr>\n",
       "    <tr>\n",
       "      <th>13</th>\n",
       "      <td>605390291828</td>\n",
       "      <td>株式会社インタープレジゼント</td>\n",
       "      <td>http://www.inter-president.com</td>\n",
       "      <td>2014-10-27 15:11:39</td>\n",
       "      <td>2016-05-08 23:34:14</td>\n",
       "      <td>2015-02-12 12:40:23</td>\n",
       "      <td>ライトプラン</td>\n",
       "    </tr>\n",
       "    <tr>\n",
       "      <th>14</th>\n",
       "      <td>180391688960</td>\n",
       "      <td>株式会社スリィ・ウェイブ</td>\n",
       "      <td>http://www.three-waves.com</td>\n",
       "      <td>2014-10-27 15:34:47</td>\n",
       "      <td>2016-10-26 23:34:39</td>\n",
       "      <td>2016-09-16 07:57:26</td>\n",
       "      <td>ライトプラン</td>\n",
       "    </tr>\n",
       "    <tr>\n",
       "      <th>15</th>\n",
       "      <td>290392514038</td>\n",
       "      <td>株式会社ＰＬＵＢＯ</td>\n",
       "      <td>http://plubo.co.jp</td>\n",
       "      <td>2014-10-27 15:48:32</td>\n",
       "      <td>2016-10-26 23:34:39</td>\n",
       "      <td>2015-08-30 16:04:09</td>\n",
       "      <td>ライトプラン</td>\n",
       "    </tr>\n",
       "    <tr>\n",
       "      <th>16</th>\n",
       "      <td>203402661683</td>\n",
       "      <td>スカイリンクス株式会社</td>\n",
       "      <td>http://skylinks.jp/</td>\n",
       "      <td>2014-10-27 18:37:46</td>\n",
       "      <td>2015-06-23 15:17:39</td>\n",
       "      <td>2015-06-22 15:31:07</td>\n",
       "      <td>ライトプラン</td>\n",
       "    </tr>\n",
       "    <tr>\n",
       "      <th>17</th>\n",
       "      <td>505404361943</td>\n",
       "      <td>セブンドリーム株式会社</td>\n",
       "      <td>http://sevendream.co.jp</td>\n",
       "      <td>2014-10-27 19:06:02</td>\n",
       "      <td>2016-10-26 23:34:40</td>\n",
       "      <td>2015-09-01 13:11:50</td>\n",
       "      <td>30日CP済</td>\n",
       "    </tr>\n",
       "    <tr>\n",
       "      <th>18</th>\n",
       "      <td>418487991544</td>\n",
       "      <td>サクシード株式会社</td>\n",
       "      <td>http://www.succ.co.jp/</td>\n",
       "      <td>2014-10-28 18:19:58</td>\n",
       "      <td>2015-05-25 15:28:06</td>\n",
       "      <td>2015-05-22 09:57:09</td>\n",
       "      <td>ライトプラン</td>\n",
       "    </tr>\n",
       "    <tr>\n",
       "      <th>19</th>\n",
       "      <td>2488162028</td>\n",
       "      <td>日本デジタルデザイン株式会社</td>\n",
       "      <td>http://www.ndd-net.co.jp/</td>\n",
       "      <td>2014-10-28 18:22:40</td>\n",
       "      <td>2016-05-19 11:41:01</td>\n",
       "      <td>2016-01-27 18:03:03</td>\n",
       "      <td>30日CP済</td>\n",
       "    </tr>\n",
       "    <tr>\n",
       "      <th>20</th>\n",
       "      <td>408544635777</td>\n",
       "      <td>株式会社エヌステージ</td>\n",
       "      <td>http://www.nstage-nt.co.jp/</td>\n",
       "      <td>2014-10-29 10:03:51</td>\n",
       "      <td>2016-10-26 23:34:40</td>\n",
       "      <td>2014-11-25 09:15:59</td>\n",
       "      <td>ライトプラン</td>\n",
       "    </tr>\n",
       "  </tbody>\n",
       "</table>\n",
       "</div>"
      ],
      "text/plain": [
       "            uuid               name                             url  \\\n",
       "id                                                                    \n",
       "1   988066285892     株式会社 エル・ティー・エス             http://www.lt-s.jp/   \n",
       "2   247113551374        アクロスロード株式会社    http://www.axrossroad.co.jp/   \n",
       "3   787121381699  有限会社アイ・ティ・ソリューション                http://itsol.jp/   \n",
       "4   777129265687        ザックシステム株式会社           http://www.zaq.co.jp/   \n",
       "5   364131262019       株式会社シー・エス・エス       http://www.css-net.co.jp/   \n",
       "6   754135652071            ジャパンソフト       http://www.jpn-soft.co.jp   \n",
       "7   905142366060            株式会社LDS                 http://l-ds.jp/   \n",
       "8   495155891538          株式会社バーネット         http://www.barnet.co.jp   \n",
       "9   656218181448        株式会社ギークフィード       http://www.geekfeed.co.jp   \n",
       "10  620319813383             株式会社日光     http://www.corpsunlight.com   \n",
       "11   10376052054  株式会社　キングコンピューティング         http://www.king-kcp.com   \n",
       "12  225385766456      株式会社キャリアヴィジョン         http://careervision.jp/   \n",
       "13  605390291828     株式会社インタープレジゼント  http://www.inter-president.com   \n",
       "14  180391688960       株式会社スリィ・ウェイブ      http://www.three-waves.com   \n",
       "15  290392514038          株式会社ＰＬＵＢＯ              http://plubo.co.jp   \n",
       "16  203402661683        スカイリンクス株式会社             http://skylinks.jp/   \n",
       "17  505404361943        セブンドリーム株式会社         http://sevendream.co.jp   \n",
       "18  418487991544          サクシード株式会社          http://www.succ.co.jp/   \n",
       "19    2488162028     日本デジタルデザイン株式会社       http://www.ndd-net.co.jp/   \n",
       "20  408544635777         株式会社エヌステージ     http://www.nstage-nt.co.jp/   \n",
       "\n",
       "                created              updated           last_login   isPaying  \n",
       "id                                                                            \n",
       "1   2014-10-23 21:11:29  2016-06-20 17:45:34  2016-10-21 11:24:02  スタンダードプラン  \n",
       "2   2014-10-24 10:19:18  2016-05-08 23:33:45  2015-04-09 11:39:28     ライトプラン  \n",
       "3   2014-10-24 12:29:49  2015-01-14 19:21:45  2015-01-14 14:47:34     ライトプラン  \n",
       "4   2014-10-24 14:41:01  2016-10-26 23:34:36  2016-06-15 17:44:34     ライトプラン  \n",
       "5   2014-10-24 15:14:29  2016-03-15 09:51:27  2016-03-10 17:52:00     ライトプラン  \n",
       "6   2014-10-24 16:27:38  2016-05-08 23:34:13  2015-03-13 16:03:51     ライトプラン  \n",
       "7   2014-10-24 18:19:22  2016-10-26 23:34:37  2016-10-09 09:10:46     ライトプラン  \n",
       "8   2014-10-24 22:04:54  2016-10-26 23:34:24  2016-10-17 12:23:13  スタンダードプラン  \n",
       "9   2014-10-25 15:23:11  2016-10-26 23:34:00  2016-01-22 09:22:06     ライトプラン  \n",
       "10  2014-10-26 19:36:58  2016-10-26 23:34:01  2016-01-08 00:10:22     ライトプラン  \n",
       "11  2014-10-27 11:14:12  2016-10-26 23:34:38  2015-11-21 10:00:48     ライトプラン  \n",
       "12  2014-10-27 13:56:07  2015-06-29 16:09:33  2015-06-26 12:34:17     ライトプラン  \n",
       "13  2014-10-27 15:11:39  2016-05-08 23:34:14  2015-02-12 12:40:23     ライトプラン  \n",
       "14  2014-10-27 15:34:47  2016-10-26 23:34:39  2016-09-16 07:57:26     ライトプラン  \n",
       "15  2014-10-27 15:48:32  2016-10-26 23:34:39  2015-08-30 16:04:09     ライトプラン  \n",
       "16  2014-10-27 18:37:46  2015-06-23 15:17:39  2015-06-22 15:31:07     ライトプラン  \n",
       "17  2014-10-27 19:06:02  2016-10-26 23:34:40  2015-09-01 13:11:50     30日CP済  \n",
       "18  2014-10-28 18:19:58  2015-05-25 15:28:06  2015-05-22 09:57:09     ライトプラン  \n",
       "19  2014-10-28 18:22:40  2016-05-19 11:41:01  2016-01-27 18:03:03     30日CP済  \n",
       "20  2014-10-29 10:03:51  2016-10-26 23:34:40  2014-11-25 09:15:59     ライトプラン  "
      ]
     },
     "execution_count": 59,
     "metadata": {},
     "output_type": "execute_result"
    }
   ],
   "source": [
    "with codecs.open('./csv/companies.csv', 'r', 'Shift-JIS', 'ignore') as file:\n",
    "    df_companies = pd.read_csv(file, index_col='id', usecols=['id','uuid','name','url','created','updated','last_login','isPaying']).fillna('')\n",
    "df_companies[:20]"
   ]
  }
 ],
 "metadata": {
  "anaconda-cloud": {},
  "kernelspec": {
   "display_name": "Python [Root]",
   "language": "python",
   "name": "Python [Root]"
  },
  "language_info": {
   "codemirror_mode": {
    "name": "ipython",
    "version": 2
   },
   "file_extension": ".py",
   "mimetype": "text/x-python",
   "name": "python",
   "nbconvert_exporter": "python",
   "pygments_lexer": "ipython2",
   "version": "2.7.12"
  }
 },
 "nbformat": 4,
 "nbformat_minor": 0
}
